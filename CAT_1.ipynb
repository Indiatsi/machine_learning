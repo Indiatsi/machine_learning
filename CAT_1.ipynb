{
  "nbformat": 4,
  "nbformat_minor": 0,
  "metadata": {
    "colab": {
      "name": "CAT 1.ipynb",
      "provenance": [],
      "collapsed_sections": [
        "Apo6z2iBq1vZ"
      ],
      "authorship_tag": "ABX9TyNXGNU+340SJFZbBN7+Xnd0",
      "include_colab_link": true
    },
    "kernelspec": {
      "name": "python3",
      "display_name": "Python 3"
    }
  },
  "cells": [
    {
      "cell_type": "markdown",
      "metadata": {
        "id": "view-in-github",
        "colab_type": "text"
      },
      "source": [
        "<a href=\"https://colab.research.google.com/github/Indiatsi/machine_learning/blob/CAT_1/CAT_1.ipynb\" target=\"_parent\"><img src=\"https://colab.research.google.com/assets/colab-badge.svg\" alt=\"Open In Colab\"/></a>"
      ]
    },
    {
      "cell_type": "code",
      "metadata": {
        "id": "NZL_DKpsM50a",
        "colab_type": "code",
        "colab": {}
      },
      "source": [
        "%matplotlib inline"
      ],
      "execution_count": null,
      "outputs": []
    },
    {
      "cell_type": "markdown",
      "metadata": {
        "id": "FT21_-34nOHU",
        "colab_type": "text"
      },
      "source": [
        "# Importing libraries"
      ]
    },
    {
      "cell_type": "code",
      "metadata": {
        "id": "QHdKh2gbepJo",
        "colab_type": "code",
        "colab": {}
      },
      "source": [
        "import pandas as pd\n",
        "import numpy as np\n",
        "import matplotlib\n",
        "import matplotlib.pyplot as plt\n",
        "import seaborn as sns\n",
        "\n",
        "from sklearn import metrics\n",
        "from sklearn import linear_model\n",
        "from sklearn.datasets import fetch_california_housing\n",
        "from sklearn.preprocessing import StandardScaler, PowerTransformer\n",
        "from sklearn.model_selection import train_test_split, KFold, cross_val_score, GridSearchCV, RandomizedSearchCV\n",
        "from sklearn.decomposition import PCA\n",
        "from sklearn.linear_model import LassoCV, RidgeCV, LinearRegression"
      ],
      "execution_count": null,
      "outputs": []
    },
    {
      "cell_type": "markdown",
      "metadata": {
        "id": "d7GJuBNlD27T",
        "colab_type": "text"
      },
      "source": [
        "# Loading data from sklearn"
      ]
    },
    {
      "cell_type": "code",
      "metadata": {
        "id": "1m1ZPeqPND1G",
        "colab_type": "code",
        "colab": {
          "base_uri": "https://localhost:8080/",
          "height": 714
        },
        "outputId": "c41f3cb3-899e-4e40-f4b7-1b03f9841fc8"
      },
      "source": [
        "data = fetch_california_housing()\n",
        "print(data.DESCR)"
      ],
      "execution_count": null,
      "outputs": [
        {
          "output_type": "stream",
          "text": [
            ".. _california_housing_dataset:\n",
            "\n",
            "California Housing dataset\n",
            "--------------------------\n",
            "\n",
            "**Data Set Characteristics:**\n",
            "\n",
            "    :Number of Instances: 20640\n",
            "\n",
            "    :Number of Attributes: 8 numeric, predictive attributes and the target\n",
            "\n",
            "    :Attribute Information:\n",
            "        - MedInc        median income in block\n",
            "        - HouseAge      median house age in block\n",
            "        - AveRooms      average number of rooms\n",
            "        - AveBedrms     average number of bedrooms\n",
            "        - Population    block population\n",
            "        - AveOccup      average house occupancy\n",
            "        - Latitude      house block latitude\n",
            "        - Longitude     house block longitude\n",
            "\n",
            "    :Missing Attribute Values: None\n",
            "\n",
            "This dataset was obtained from the StatLib repository.\n",
            "http://lib.stat.cmu.edu/datasets/\n",
            "\n",
            "The target variable is the median house value for California districts.\n",
            "\n",
            "This dataset was derived from the 1990 U.S. census, using one row per census\n",
            "block group. A block group is the smallest geographical unit for which the U.S.\n",
            "Census Bureau publishes sample data (a block group typically has a population\n",
            "of 600 to 3,000 people).\n",
            "\n",
            "It can be downloaded/loaded using the\n",
            ":func:`sklearn.datasets.fetch_california_housing` function.\n",
            "\n",
            ".. topic:: References\n",
            "\n",
            "    - Pace, R. Kelley and Ronald Barry, Sparse Spatial Autoregressions,\n",
            "      Statistics and Probability Letters, 33 (1997) 291-297\n",
            "\n"
          ],
          "name": "stdout"
        }
      ]
    },
    {
      "cell_type": "markdown",
      "metadata": {
        "id": "Apo6z2iBq1vZ",
        "colab_type": "text"
      },
      "source": [
        "# Dealing with missing values"
      ]
    },
    {
      "cell_type": "markdown",
      "metadata": {
        "id": "U4eqEUDzq_eZ",
        "colab_type": "text"
      },
      "source": [
        "There are no missing values in this dataset."
      ]
    },
    {
      "cell_type": "markdown",
      "metadata": {
        "id": "bNCBDUJAnIB1",
        "colab_type": "text"
      },
      "source": [
        "# Feature Selection\n",
        "This data only has numerical values. Encoding is not necessary."
      ]
    },
    {
      "cell_type": "code",
      "metadata": {
        "id": "W9nF1P0rnu28",
        "colab_type": "code",
        "colab": {
          "base_uri": "https://localhost:8080/",
          "height": 51
        },
        "outputId": "fc3dadab-cc18-4cea-9c30-d274ab404c4b"
      },
      "source": [
        "# Converting data into pandas data frame\n",
        "x = pd.DataFrame(data.data, columns = data.feature_names)\n",
        "y = data.target\n",
        "regressor = LassoCV()\n",
        "regressor.fit(x, y)"
      ],
      "execution_count": null,
      "outputs": [
        {
          "output_type": "execute_result",
          "data": {
            "text/plain": [
              "RidgeCV(alphas=array([ 0.1,  1. , 10. ]), cv=None, fit_intercept=True,\n",
              "        gcv_mode=None, normalize=False, scoring=None, store_cv_values=False)"
            ]
          },
          "metadata": {
            "tags": []
          },
          "execution_count": 269
        }
      ]
    },
    {
      "cell_type": "code",
      "metadata": {
        "id": "CPOJ1JDLL7sc",
        "colab_type": "code",
        "colab": {
          "base_uri": "https://localhost:8080/",
          "height": 828
        },
        "outputId": "21c7b597-967d-4719-9e74-3e2dc23e5575"
      },
      "source": [
        "coef_column = pd.Series(regressor.coef_, index = x.columns)\n",
        "print(coef_column)\n",
        "sorted_coef = coef_column.sort_values()\n",
        "matplotlib.rcParams['figure.figsize'] = (10.5, 10.0)\n",
        "sorted_coef.plot(kind = \"barh\")\n",
        "\n",
        "no_of_selected_features = sum(coef_column != 0)\n",
        "no_of_rejected_features = sum(coef_column == 0)\n",
        "total_features = no_of_selected_features + no_of_rejected_features\n",
        "print(\"L1 selected only \",no_of_selected_features,\" features out of \",total_features,\" from the transformed dataset \")\n",
        "plt.title(\"Feature Selection Using L1 Embedder\")"
      ],
      "execution_count": null,
      "outputs": [
        {
          "output_type": "stream",
          "text": [
            "[ 4.35718812e-01  9.45189655e-03 -1.05456411e-01  6.35173670e-01\n",
            " -3.91648882e-06 -3.78474969e-03 -4.21155751e-01 -4.34216789e-01]\n",
            "MedInc        0.435719\n",
            "HouseAge      0.009452\n",
            "AveRooms     -0.105456\n",
            "AveBedrms     0.635174\n",
            "Population   -0.000004\n",
            "AveOccup     -0.003785\n",
            "Latitude     -0.421156\n",
            "Longitude    -0.434217\n",
            "dtype: float64\n",
            "L1 selected only  8  features out of  8  from the transformed dataset \n"
          ],
          "name": "stdout"
        },
        {
          "output_type": "execute_result",
          "data": {
            "text/plain": [
              "Text(0.5, 1.0, 'Feature Selection Using L1 Embedder')"
            ]
          },
          "metadata": {
            "tags": []
          },
          "execution_count": 270
        },
        {
          "output_type": "display_data",
          "data": {
            "image/png": "[encoded data removed]",
            "text/plain": [
              "<Figure size 756x720 with 1 Axes>"
            ]
          },
          "metadata": {
            "tags": [],
            "needs_background": "light"
          }
        }
      ]
    },
    {
      "cell_type": "markdown",
      "metadata": {
        "id": "3kqIOPyN6D1B",
        "colab_type": "text"
      },
      "source": [
        "# Feature Extraction\n",
        "Using PCA, 0.9"
      ]
    },
    {
      "cell_type": "code",
      "metadata": {
        "id": "8S2FDqC8N9Er",
        "colab_type": "code",
        "colab": {}
      },
      "source": [
        "pca_with_varia = PCA(0.9)\n",
        "pca_with_varia.fit_transform(x)\n",
        "pca_with_varia.n_components_\n",
        "\n",
        "# define components\n",
        "n_components = 3"
      ],
      "execution_count": null,
      "outputs": []
    },
    {
      "cell_type": "code",
      "metadata": {
        "id": "RH79GwtF22Ln",
        "colab_type": "code",
        "colab": {
          "base_uri": "https://localhost:8080/",
          "height": 419
        },
        "outputId": "f3f8b418-8ee6-4ccb-d9ab-965a7475b5d8"
      },
      "source": [
        "pca = PCA(n_components)\n",
        "pc_s = pca.fit_transform(x)\n",
        "pca_data = pd.DataFrame(pc_s,columns = ['PC1', 'PC2', 'PC3'])\n",
        "target_data = pd.DataFrame(y, columns = ['Target'])\n",
        "final_data = pd.concat([pca_data,target_data],axis=1)\n",
        "final_data"
      ],
      "execution_count": null,
      "outputs": [
        {
          "output_type": "execute_result",
          "data": {
            "text/html": [
              "<div>\n",
              "<style scoped>\n",
              "    .dataframe tbody tr th:only-of-type {\n",
              "        vertical-align: middle;\n",
              "    }\n",
              "\n",
              "    .dataframe tbody tr th {\n",
              "        vertical-align: top;\n",
              "    }\n",
              "\n",
              "    .dataframe thead th {\n",
              "        text-align: right;\n",
              "    }\n",
              "</style>\n",
              "<table border=\"1\" class=\"dataframe\">\n",
              "  <thead>\n",
              "    <tr style=\"text-align: right;\">\n",
              "      <th></th>\n",
              "      <th>PC1</th>\n",
              "      <th>PC2</th>\n",
              "      <th>PC3</th>\n",
              "      <th>Target</th>\n",
              "    </tr>\n",
              "  </thead>\n",
              "  <tbody>\n",
              "    <tr>\n",
              "      <th>0</th>\n",
              "      <td>-1103.512648</td>\n",
              "      <td>8.566636</td>\n",
              "      <td>-0.774104</td>\n",
              "      <td>4.526</td>\n",
              "    </tr>\n",
              "    <tr>\n",
              "      <th>1</th>\n",
              "      <td>975.541244</td>\n",
              "      <td>-4.670418</td>\n",
              "      <td>-1.025681</td>\n",
              "      <td>3.585</td>\n",
              "    </tr>\n",
              "    <tr>\n",
              "      <th>2</th>\n",
              "      <td>-929.549908</td>\n",
              "      <td>20.034651</td>\n",
              "      <td>-1.972737</td>\n",
              "      <td>3.521</td>\n",
              "    </tr>\n",
              "    <tr>\n",
              "      <th>3</th>\n",
              "      <td>-867.550048</td>\n",
              "      <td>20.331441</td>\n",
              "      <td>-2.314929</td>\n",
              "      <td>3.413</td>\n",
              "    </tr>\n",
              "    <tr>\n",
              "      <th>4</th>\n",
              "      <td>-860.550411</td>\n",
              "      <td>20.328827</td>\n",
              "      <td>-2.695158</td>\n",
              "      <td>3.422</td>\n",
              "    </tr>\n",
              "    <tr>\n",
              "      <th>...</th>\n",
              "      <td>...</td>\n",
              "      <td>...</td>\n",
              "      <td>...</td>\n",
              "      <td>...</td>\n",
              "    </tr>\n",
              "    <tr>\n",
              "      <th>20635</th>\n",
              "      <td>-580.462810</td>\n",
              "      <td>-5.452939</td>\n",
              "      <td>0.492803</td>\n",
              "      <td>0.781</td>\n",
              "    </tr>\n",
              "    <tr>\n",
              "      <th>20636</th>\n",
              "      <td>-1069.436815</td>\n",
              "      <td>-13.953253</td>\n",
              "      <td>2.368015</td>\n",
              "      <td>0.771</td>\n",
              "    </tr>\n",
              "    <tr>\n",
              "      <th>20637</th>\n",
              "      <td>-418.437575</td>\n",
              "      <td>-12.908256</td>\n",
              "      <td>1.019013</td>\n",
              "      <td>0.923</td>\n",
              "    </tr>\n",
              "    <tr>\n",
              "      <th>20638</th>\n",
              "      <td>-684.439525</td>\n",
              "      <td>-12.794581</td>\n",
              "      <td>0.974409</td>\n",
              "      <td>0.847</td>\n",
              "    </tr>\n",
              "    <tr>\n",
              "      <th>20639</th>\n",
              "      <td>-38.436247</td>\n",
              "      <td>-12.670378</td>\n",
              "      <td>1.042868</td>\n",
              "      <td>0.894</td>\n",
              "    </tr>\n",
              "  </tbody>\n",
              "</table>\n",
              "<p>20640 rows × 4 columns</p>\n",
              "</div>"
            ],
            "text/plain": [
              "               PC1        PC2       PC3  Target\n",
              "0     -1103.512648   8.566636 -0.774104   4.526\n",
              "1       975.541244  -4.670418 -1.025681   3.585\n",
              "2      -929.549908  20.034651 -1.972737   3.521\n",
              "3      -867.550048  20.331441 -2.314929   3.413\n",
              "4      -860.550411  20.328827 -2.695158   3.422\n",
              "...            ...        ...       ...     ...\n",
              "20635  -580.462810  -5.452939  0.492803   0.781\n",
              "20636 -1069.436815 -13.953253  2.368015   0.771\n",
              "20637  -418.437575 -12.908256  1.019013   0.923\n",
              "20638  -684.439525 -12.794581  0.974409   0.847\n",
              "20639   -38.436247 -12.670378  1.042868   0.894\n",
              "\n",
              "[20640 rows x 4 columns]"
            ]
          },
          "metadata": {
            "tags": []
          },
          "execution_count": 272
        }
      ]
    },
    {
      "cell_type": "code",
      "metadata": {
        "id": "tQ5sIZuR3Qt9",
        "colab_type": "code",
        "colab": {
          "base_uri": "https://localhost:8080/",
          "height": 34
        },
        "outputId": "1c846dae-99e0-4b7b-dc74-158929eefe68"
      },
      "source": [
        "pca.explained_variance_ratio_"
      ],
      "execution_count": null,
      "outputs": [
        {
          "output_type": "execute_result",
          "data": {
            "text/plain": [
              "array([9.99789327e-01, 1.13281110e-04, 8.32834638e-05])"
            ]
          },
          "metadata": {
            "tags": []
          },
          "execution_count": 273
        }
      ]
    },
    {
      "cell_type": "code",
      "metadata": {
        "id": "G7UW7tB03TU9",
        "colab_type": "code",
        "colab": {
          "base_uri": "https://localhost:8080/",
          "height": 297
        },
        "outputId": "4988bd1e-24b7-4920-b7b8-54c90048ab35"
      },
      "source": [
        "final_data.describe()"
      ],
      "execution_count": null,
      "outputs": [
        {
          "output_type": "execute_result",
          "data": {
            "text/html": [
              "<div>\n",
              "<style scoped>\n",
              "    .dataframe tbody tr th:only-of-type {\n",
              "        vertical-align: middle;\n",
              "    }\n",
              "\n",
              "    .dataframe tbody tr th {\n",
              "        vertical-align: top;\n",
              "    }\n",
              "\n",
              "    .dataframe thead th {\n",
              "        text-align: right;\n",
              "    }\n",
              "</style>\n",
              "<table border=\"1\" class=\"dataframe\">\n",
              "  <thead>\n",
              "    <tr style=\"text-align: right;\">\n",
              "      <th></th>\n",
              "      <th>PC1</th>\n",
              "      <th>PC2</th>\n",
              "      <th>PC3</th>\n",
              "      <th>Target</th>\n",
              "    </tr>\n",
              "  </thead>\n",
              "  <tbody>\n",
              "    <tr>\n",
              "      <th>count</th>\n",
              "      <td>2.064000e+04</td>\n",
              "      <td>2.064000e+04</td>\n",
              "      <td>2.064000e+04</td>\n",
              "      <td>20640.000000</td>\n",
              "    </tr>\n",
              "    <tr>\n",
              "      <th>mean</th>\n",
              "      <td>1.237177e-13</td>\n",
              "      <td>-3.464929e-16</td>\n",
              "      <td>9.333942e-16</td>\n",
              "      <td>2.068558</td>\n",
              "    </tr>\n",
              "    <tr>\n",
              "      <th>std</th>\n",
              "      <td>1.132469e+03</td>\n",
              "      <td>1.205454e+01</td>\n",
              "      <td>1.033597e+01</td>\n",
              "      <td>1.153956</td>\n",
              "    </tr>\n",
              "    <tr>\n",
              "      <th>min</th>\n",
              "      <td>-1.422428e+03</td>\n",
              "      <td>-3.201997e+01</td>\n",
              "      <td>-2.870594e+01</td>\n",
              "      <td>0.149990</td>\n",
              "    </tr>\n",
              "    <tr>\n",
              "      <th>25%</th>\n",
              "      <td>-6.384857e+02</td>\n",
              "      <td>-9.532781e+00</td>\n",
              "      <td>-1.183778e+00</td>\n",
              "      <td>1.196000</td>\n",
              "    </tr>\n",
              "    <tr>\n",
              "      <th>50%</th>\n",
              "      <td>-2.594659e+02</td>\n",
              "      <td>5.933884e-01</td>\n",
              "      <td>-1.307700e-01</td>\n",
              "      <td>1.797000</td>\n",
              "    </tr>\n",
              "    <tr>\n",
              "      <th>75%</th>\n",
              "      <td>2.995021e+02</td>\n",
              "      <td>8.067277e+00</td>\n",
              "      <td>9.659725e-01</td>\n",
              "      <td>2.647250</td>\n",
              "    </tr>\n",
              "    <tr>\n",
              "      <th>max</th>\n",
              "      <td>3.425638e+04</td>\n",
              "      <td>1.788184e+02</td>\n",
              "      <td>1.223955e+03</td>\n",
              "      <td>5.000010</td>\n",
              "    </tr>\n",
              "  </tbody>\n",
              "</table>\n",
              "</div>"
            ],
            "text/plain": [
              "                PC1           PC2           PC3        Target\n",
              "count  2.064000e+04  2.064000e+04  2.064000e+04  20640.000000\n",
              "mean   1.237177e-13 -3.464929e-16  9.333942e-16      2.068558\n",
              "std    1.132469e+03  1.205454e+01  1.033597e+01      1.153956\n",
              "min   -1.422428e+03 -3.201997e+01 -2.870594e+01      0.149990\n",
              "25%   -6.384857e+02 -9.532781e+00 -1.183778e+00      1.196000\n",
              "50%   -2.594659e+02  5.933884e-01 -1.307700e-01      1.797000\n",
              "75%    2.995021e+02  8.067277e+00  9.659725e-01      2.647250\n",
              "max    3.425638e+04  1.788184e+02  1.223955e+03      5.000010"
            ]
          },
          "metadata": {
            "tags": []
          },
          "execution_count": 274
        }
      ]
    },
    {
      "cell_type": "code",
      "metadata": {
        "id": "2_5dmc7_3YZ5",
        "colab_type": "code",
        "colab": {
          "base_uri": "https://localhost:8080/",
          "height": 764
        },
        "outputId": "9f1a1aa1-544f-477a-94aa-3366dfea4f9e"
      },
      "source": [
        "sns.pairplot(final_data, kind='reg', diag_kind='kde')"
      ],
      "execution_count": null,
      "outputs": [
        {
          "output_type": "execute_result",
          "data": {
            "text/plain": [
              "<seaborn.axisgrid.PairGrid at 0x7f44191d7be0>"
            ]
          },
          "metadata": {
            "tags": []
          },
          "execution_count": 275
        },
        {
          "output_type": "display_data",
          "data": {
            "image/png": "[encoded data removed]",
            "text/plain": [
              "<Figure size 720x720 with 20 Axes>"
            ]
          },
          "metadata": {
            "tags": [],
            "needs_background": "light"
          }
        }
      ]
    },
    {
      "cell_type": "code",
      "metadata": {
        "id": "MCOLtovBQHdp",
        "colab_type": "code",
        "colab": {}
      },
      "source": [
        "# Split data into train and test data sets\n",
        "X_train, X_test, y_train, y_test = train_test_split(x, y, test_size = 0.3, random_state = 101)"
      ],
      "execution_count": null,
      "outputs": []
    },
    {
      "cell_type": "code",
      "metadata": {
        "id": "7FXWB_nV476x",
        "colab_type": "code",
        "colab": {
          "base_uri": "https://localhost:8080/",
          "height": 80
        },
        "outputId": "9b7f15d4-69c8-49a8-b5e6-a403f8c4c137"
      },
      "source": [
        "result = {}\n",
        "models = {'LinearRegression':linear_model.LinearRegression(),\n",
        "          'Lasso':linear_model.Lasso(),\n",
        "          'Ridge':linear_model.Ridge()}\n",
        "\n",
        "for i in models:\n",
        "  models[i].fit(X_train, y_train)\n",
        "  accuracy = models[i].score(X_test, y_test)\n",
        "  result[i]=[accuracy]\n",
        "pd.DataFrame(result)"
      ],
      "execution_count": null,
      "outputs": [
        {
          "output_type": "execute_result",
          "data": {
            "text/html": [
              "<div>\n",
              "<style scoped>\n",
              "    .dataframe tbody tr th:only-of-type {\n",
              "        vertical-align: middle;\n",
              "    }\n",
              "\n",
              "    .dataframe tbody tr th {\n",
              "        vertical-align: top;\n",
              "    }\n",
              "\n",
              "    .dataframe thead th {\n",
              "        text-align: right;\n",
              "    }\n",
              "</style>\n",
              "<table border=\"1\" class=\"dataframe\">\n",
              "  <thead>\n",
              "    <tr style=\"text-align: right;\">\n",
              "      <th></th>\n",
              "      <th>LinearRegression</th>\n",
              "      <th>Lasso</th>\n",
              "      <th>Ridge</th>\n",
              "    </tr>\n",
              "  </thead>\n",
              "  <tbody>\n",
              "    <tr>\n",
              "      <th>0</th>\n",
              "      <td>0.219645</td>\n",
              "      <td>0.283403</td>\n",
              "      <td>0.219534</td>\n",
              "    </tr>\n",
              "  </tbody>\n",
              "</table>\n",
              "</div>"
            ],
            "text/plain": [
              "   LinearRegression     Lasso     Ridge\n",
              "0          0.219645  0.283403  0.219534"
            ]
          },
          "metadata": {
            "tags": []
          },
          "execution_count": 277
        }
      ]
    },
    {
      "cell_type": "code",
      "metadata": {
        "id": "eIrzZFc05dMP",
        "colab_type": "code",
        "colab": {
          "base_uri": "https://localhost:8080/",
          "height": 80
        },
        "outputId": "77c91198-90ec-4fba-8764-6ae56d59692b"
      },
      "source": [
        "kfold = KFold(n_splits = 9)\n",
        "for i in models:\n",
        "  regressor = models[i]\n",
        "  c_validated = cross_val_score(regressor, X_train, y_train, cv = kfold)  \n",
        "  accuracy = c_validated.mean()\n",
        "  result[i]=[accuracy]\n",
        "pd.DataFrame(result)"
      ],
      "execution_count": null,
      "outputs": [
        {
          "output_type": "execute_result",
          "data": {
            "text/html": [
              "<div>\n",
              "<style scoped>\n",
              "    .dataframe tbody tr th:only-of-type {\n",
              "        vertical-align: middle;\n",
              "    }\n",
              "\n",
              "    .dataframe tbody tr th {\n",
              "        vertical-align: top;\n",
              "    }\n",
              "\n",
              "    .dataframe thead th {\n",
              "        text-align: right;\n",
              "    }\n",
              "</style>\n",
              "<table border=\"1\" class=\"dataframe\">\n",
              "  <thead>\n",
              "    <tr style=\"text-align: right;\">\n",
              "      <th></th>\n",
              "      <th>LinearRegression</th>\n",
              "      <th>Lasso</th>\n",
              "      <th>Ridge</th>\n",
              "    </tr>\n",
              "  </thead>\n",
              "  <tbody>\n",
              "    <tr>\n",
              "      <th>0</th>\n",
              "      <td>0.557754</td>\n",
              "      <td>0.284704</td>\n",
              "      <td>0.557763</td>\n",
              "    </tr>\n",
              "  </tbody>\n",
              "</table>\n",
              "</div>"
            ],
            "text/plain": [
              "   LinearRegression     Lasso     Ridge\n",
              "0          0.557754  0.284704  0.557763"
            ]
          },
          "metadata": {
            "tags": []
          },
          "execution_count": 278
        }
      ]
    },
    {
      "cell_type": "code",
      "metadata": {
        "id": "NjRWDDaeohpu",
        "colab_type": "code",
        "colab": {
          "base_uri": "https://localhost:8080/",
          "height": 80
        },
        "outputId": "82b6c517-8a53-4547-e488-fd9397293a30"
      },
      "source": [
        "for i in models:\n",
        "  regressor = models[i]\n",
        "  if i == 'Lasso':\n",
        "    lasso_params = {'alpha':[0.02, 0.024, 0.025, 0.026, 0.03, 1.5],'max_iter':[1000, 1100, 1500, 2000],'tol':[0.001,0.0001,0.000001]}\n",
        "    grid = GridSearchCV(regressor,param_grid=lasso_params,cv=2,n_jobs=-1)\n",
        "    results = grid.fit(X_train,y_train)\n",
        "    accuracy = results.score(X_test,y_test)\n",
        "  else:    \n",
        "    c_validated = cross_val_score(regressor,X_train,y_train,cv=kfold)  \n",
        "    accuracy = c_validated.mean()\n",
        "  result[i]=[accuracy]\n",
        "pd.DataFrame(result)"
      ],
      "execution_count": null,
      "outputs": [
        {
          "output_type": "execute_result",
          "data": {
            "text/html": [
              "<div>\n",
              "<style scoped>\n",
              "    .dataframe tbody tr th:only-of-type {\n",
              "        vertical-align: middle;\n",
              "    }\n",
              "\n",
              "    .dataframe tbody tr th {\n",
              "        vertical-align: top;\n",
              "    }\n",
              "\n",
              "    .dataframe thead th {\n",
              "        text-align: right;\n",
              "    }\n",
              "</style>\n",
              "<table border=\"1\" class=\"dataframe\">\n",
              "  <thead>\n",
              "    <tr style=\"text-align: right;\">\n",
              "      <th></th>\n",
              "      <th>LinearRegression</th>\n",
              "      <th>Lasso</th>\n",
              "      <th>Ridge</th>\n",
              "    </tr>\n",
              "  </thead>\n",
              "  <tbody>\n",
              "    <tr>\n",
              "      <th>0</th>\n",
              "      <td>0.557754</td>\n",
              "      <td>0.261321</td>\n",
              "      <td>0.557763</td>\n",
              "    </tr>\n",
              "  </tbody>\n",
              "</table>\n",
              "</div>"
            ],
            "text/plain": [
              "   LinearRegression     Lasso     Ridge\n",
              "0          0.557754  0.261321  0.557763"
            ]
          },
          "metadata": {
            "tags": []
          },
          "execution_count": 279
        }
      ]
    },
    {
      "cell_type": "code",
      "metadata": {
        "id": "Wosm1cisoyq5",
        "colab_type": "code",
        "colab": {
          "base_uri": "https://localhost:8080/",
          "height": 80
        },
        "outputId": "016614b1-3cdd-4dd3-dcf3-3391514ed5e2"
      },
      "source": [
        "for i in models:\n",
        "  regressor = models[i]\n",
        "  if i == 'Ridge':\n",
        "    ridge_params = {'alpha':[0.02, 0.024, 0.025, 0.026, 0.03, 1.5], 'max_iter':[1000, 1100, 1500, 2000], 'tol':[0.001, 0.0001, 0.00001]}\n",
        "    grid = GridSearchCV(regressor, param_grid= ridge_params, cv = 2, n_jobs = -1)\n",
        "    results = grid.fit(X_train,y_train)\n",
        "    accuracy = results.score(X_test,y_test)\n",
        "  else:    \n",
        "    c_validated = cross_val_score(regressor, X_train, y_train, cv = kfold)  \n",
        "    accuracy = c_validated.mean()\n",
        "  result[i]=[accuracy]\n",
        "pd.DataFrame(result)"
      ],
      "execution_count": null,
      "outputs": [
        {
          "output_type": "execute_result",
          "data": {
            "text/html": [
              "<div>\n",
              "<style scoped>\n",
              "    .dataframe tbody tr th:only-of-type {\n",
              "        vertical-align: middle;\n",
              "    }\n",
              "\n",
              "    .dataframe tbody tr th {\n",
              "        vertical-align: top;\n",
              "    }\n",
              "\n",
              "    .dataframe thead th {\n",
              "        text-align: right;\n",
              "    }\n",
              "</style>\n",
              "<table border=\"1\" class=\"dataframe\">\n",
              "  <thead>\n",
              "    <tr style=\"text-align: right;\">\n",
              "      <th></th>\n",
              "      <th>LinearRegression</th>\n",
              "      <th>Lasso</th>\n",
              "      <th>Ridge</th>\n",
              "    </tr>\n",
              "  </thead>\n",
              "  <tbody>\n",
              "    <tr>\n",
              "      <th>0</th>\n",
              "      <td>0.557754</td>\n",
              "      <td>0.284704</td>\n",
              "      <td>0.219478</td>\n",
              "    </tr>\n",
              "  </tbody>\n",
              "</table>\n",
              "</div>"
            ],
            "text/plain": [
              "   LinearRegression     Lasso     Ridge\n",
              "0          0.557754  0.284704  0.219478"
            ]
          },
          "metadata": {
            "tags": []
          },
          "execution_count": 280
        }
      ]
    },
    {
      "cell_type": "code",
      "metadata": {
        "id": "u4Lby7WzqKBu",
        "colab_type": "code",
        "colab": {
          "base_uri": "https://localhost:8080/",
          "height": 114
        },
        "outputId": "65d83b58-6be3-4359-f35a-6615b4446ef6"
      },
      "source": [
        "for i in models:\n",
        "  regressor = models[i]\n",
        "  if i == 'Lasso':\n",
        "    random = RandomizedSearchCV(regressor, param_distributions = lasso_params, cv = 3, n_jobs = -1)\n",
        "    results = random.fit(X_train,y_train)\n",
        "    print(results.best_score_)\n",
        "    print(\"Best Params are \", results.best_params_)\n",
        "    accuracy = results.score(X_test,y_test)\n",
        "  else:    \n",
        "    c_validated = cross_val_score(regressor,X_train,y_train,cv=kfold)  \n",
        "    accuracy = c_validated.mean()\n",
        "  result[i]=[accuracy]\n",
        "pd.DataFrame(result)"
      ],
      "execution_count": null,
      "outputs": [
        {
          "output_type": "stream",
          "text": [
            "0.572055149105772\n",
            "Best Params are  {'tol': 1e-06, 'max_iter': 2000, 'alpha': 0.03}\n"
          ],
          "name": "stdout"
        },
        {
          "output_type": "execute_result",
          "data": {
            "text/html": [
              "<div>\n",
              "<style scoped>\n",
              "    .dataframe tbody tr th:only-of-type {\n",
              "        vertical-align: middle;\n",
              "    }\n",
              "\n",
              "    .dataframe tbody tr th {\n",
              "        vertical-align: top;\n",
              "    }\n",
              "\n",
              "    .dataframe thead th {\n",
              "        text-align: right;\n",
              "    }\n",
              "</style>\n",
              "<table border=\"1\" class=\"dataframe\">\n",
              "  <thead>\n",
              "    <tr style=\"text-align: right;\">\n",
              "      <th></th>\n",
              "      <th>LinearRegression</th>\n",
              "      <th>Lasso</th>\n",
              "      <th>Ridge</th>\n",
              "    </tr>\n",
              "  </thead>\n",
              "  <tbody>\n",
              "    <tr>\n",
              "      <th>0</th>\n",
              "      <td>0.557754</td>\n",
              "      <td>0.261321</td>\n",
              "      <td>0.557763</td>\n",
              "    </tr>\n",
              "  </tbody>\n",
              "</table>\n",
              "</div>"
            ],
            "text/plain": [
              "   LinearRegression     Lasso     Ridge\n",
              "0          0.557754  0.261321  0.557763"
            ]
          },
          "metadata": {
            "tags": []
          },
          "execution_count": 281
        }
      ]
    },
    {
      "cell_type": "code",
      "metadata": {
        "id": "NtUCfla1r7Qd",
        "colab_type": "code",
        "colab": {
          "base_uri": "https://localhost:8080/",
          "height": 114
        },
        "outputId": "c47aa31d-7925-4e8f-ed0f-398316685b52"
      },
      "source": [
        "for i in models:\n",
        "  regressor = models[i]\n",
        "  if i == 'Ridge':\n",
        "    random = RandomizedSearchCV(regressor, param_distributions = ridge_params, cv = 3, n_jobs = -1)\n",
        "    results = random.fit(X_train,y_train)\n",
        "    print(results.best_score_)\n",
        "    print(\"Best Params are \", results.best_params_)\n",
        "    accuracy = results.score(X_test,y_test)\n",
        "  else:    \n",
        "    c_validated = cross_val_score(regressor,X_train,y_train,cv=kfold)  \n",
        "    accuracy = c_validated.mean()\n",
        "  result[i]=[accuracy]\n",
        "pd.DataFrame(result)"
      ],
      "execution_count": null,
      "outputs": [
        {
          "output_type": "stream",
          "text": [
            "0.5711433018171287\n",
            "Best Params are  {'tol': 0.0001, 'max_iter': 1100, 'alpha': 1.5}\n"
          ],
          "name": "stdout"
        },
        {
          "output_type": "execute_result",
          "data": {
            "text/html": [
              "<div>\n",
              "<style scoped>\n",
              "    .dataframe tbody tr th:only-of-type {\n",
              "        vertical-align: middle;\n",
              "    }\n",
              "\n",
              "    .dataframe tbody tr th {\n",
              "        vertical-align: top;\n",
              "    }\n",
              "\n",
              "    .dataframe thead th {\n",
              "        text-align: right;\n",
              "    }\n",
              "</style>\n",
              "<table border=\"1\" class=\"dataframe\">\n",
              "  <thead>\n",
              "    <tr style=\"text-align: right;\">\n",
              "      <th></th>\n",
              "      <th>LinearRegression</th>\n",
              "      <th>Lasso</th>\n",
              "      <th>Ridge</th>\n",
              "    </tr>\n",
              "  </thead>\n",
              "  <tbody>\n",
              "    <tr>\n",
              "      <th>0</th>\n",
              "      <td>0.557754</td>\n",
              "      <td>0.284704</td>\n",
              "      <td>0.219478</td>\n",
              "    </tr>\n",
              "  </tbody>\n",
              "</table>\n",
              "</div>"
            ],
            "text/plain": [
              "   LinearRegression     Lasso     Ridge\n",
              "0          0.557754  0.284704  0.219478"
            ]
          },
          "metadata": {
            "tags": []
          },
          "execution_count": 282
        }
      ]
    },
    {
      "cell_type": "code",
      "metadata": {
        "id": "c6qxCXRFx9Y0",
        "colab_type": "code",
        "colab": {
          "base_uri": "https://localhost:8080/",
          "height": 238
        },
        "outputId": "70716dc5-032b-4eb9-9fd2-19e2ce47f99e"
      },
      "source": [
        "regressor = RidgeCV()\n",
        "best_fit = regressor.fit(X_train, y_train)\n",
        "\n",
        "x = x.values.reshape(8, 20640)\n",
        "w_1 = regressor.coef_[0]\n",
        "w_2 = regressor.coef_[1]\n",
        "b = regressor.intercept_\n",
        "# print(w_1)\n",
        "# print(w_2)\n",
        "# print(x)\n",
        "\n",
        "w = w_1 * x\n",
        "y = w_2 * y\n",
        "\n",
        "z = w + y + b\n",
        "\n",
        "z"
      ],
      "execution_count": null,
      "outputs": [
        {
          "output_type": "execute_result",
          "data": {
            "text/plain": [
              "array([[-31.87397426, -17.57629122, -32.47161028, ..., -34.45928631,\n",
              "        -17.67034787, -89.87523205],\n",
              "       [-33.77697331, -25.8958913 , -32.96593612, ..., -33.94189639,\n",
              "        -20.68729758, -87.34870087],\n",
              "       [-34.84884431, -25.45801762, -34.08260319, ..., -34.36008692,\n",
              "        -20.69605506, -87.29177729],\n",
              "       ...,\n",
              "       [-34.32917582, -25.45801762, -33.39842555, ..., -34.05688073,\n",
              "        -21.03759653, -86.84952486],\n",
              "       [-33.99411487, -28.96100713, -33.01368615, ..., -34.31630237,\n",
              "        -19.24231441, -88.98634846],\n",
              "       [-32.00187716, -20.64140704, -32.0660574 , ..., -34.41079323,\n",
              "        -18.31840093, -88.64480698]])"
            ]
          },
          "metadata": {
            "tags": []
          },
          "execution_count": 283
        }
      ]
    },
    {
      "cell_type": "code",
      "metadata": {
        "id": "mP4x_mDqrCIS",
        "colab_type": "code",
        "colab": {
          "base_uri": "https://localhost:8080/",
          "height": 34
        },
        "outputId": "61ed25ba-4959-456c-9ac0-de3f6c3afe68"
      },
      "source": [
        "regressor.score(X_test, y_test)"
      ],
      "execution_count": null,
      "outputs": [
        {
          "output_type": "execute_result",
          "data": {
            "text/plain": [
              "0.21854626903790864"
            ]
          },
          "metadata": {
            "tags": []
          },
          "execution_count": 284
        }
      ]
    }
  ]
}